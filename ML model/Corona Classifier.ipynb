{
 "cells": [
  {
   "cell_type": "code",
   "execution_count": 30,
   "metadata": {},
   "outputs": [],
   "source": [
    "#Data Preprocessing\n",
    "\n",
    "#Importing Libraries\n",
    "import numpy as np\n",
    "import matplotlib.pyplot as plt\n",
    "import pandas as pd\n",
    "\n",
    "#Importing the Dataset\n",
    "dataset_path='data.csv'\n",
    "dataset=pd.read_csv(dataset_path)\n",
    "X=dataset.iloc[:,:6].values # X matrix of input features\n",
    "y=dataset.iloc[:,-1:].values # y vector of output values\n",
    "\n",
    "#Adding Polynomial terms for non-linear decision boundaries\n",
    "from sklearn.preprocessing import PolynomialFeatures\n",
    "poly_features= PolynomialFeatures(degree=7)\n",
    "X=poly_features.fit_transform(X)\n",
    "\"\"\"\n",
    "#Encoding of categorical data\n",
    "from sklearn.preprocessing import LabelEncoder\n",
    "labelencoder_y = LabelEncoder()\n",
    "y=labelencoder_y.fit_transform(y)\"\"\"\n",
    "#Split Dataset\n",
    "from sklearn.model_selection import train_test_split\n",
    "X_train,X_test,y_train,y_test=train_test_split(X,y,test_size=0.20,random_state=0)\n",
    "\n",
    "#Feature Scaling\n",
    "from sklearn.preprocessing import StandardScaler\n",
    "sc_X=StandardScaler()\n",
    "X_train=sc_X.fit_transform(X_train)\n",
    "X_test=sc_X.transform(X_test)\n"
   ]
  },
  {
   "cell_type": "code",
   "execution_count": 31,
   "metadata": {},
   "outputs": [
    {
     "output_type": "execute_result",
     "data": {
      "text/plain": "LogisticRegression(C=1.0, class_weight=None, dual=False, fit_intercept=True,\n                   intercept_scaling=1, l1_ratio=None, max_iter=100,\n                   multi_class='ovr', n_jobs=None, penalty='l2',\n                   random_state=None, solver='warn', tol=0.0001, verbose=0,\n                   warm_start=False)"
     },
     "metadata": {},
     "execution_count": 31
    }
   ],
   "source": [
    "#Fitting to Training Set\n",
    "from sklearn.linear_model import LogisticRegression\n",
    "classifier=LogisticRegression(multi_class=\"ovr\")\n",
    "classifier.fit(X_train,y_train)"
   ]
  },
  {
   "cell_type": "code",
   "execution_count": 32,
   "metadata": {},
   "outputs": [
    {
     "output_type": "stream",
     "name": "stdout",
     "text": "Logistic Regression model accuracy(in %): 98.09523809523809\n[[ 6  1  0  0]\n [ 0  6  0  0]\n [ 1  0 86  0]\n [ 0  0  0  5]]\n                    precision    recall  f1-score   support\n\n       Coronavirus       0.86      0.86      0.86         7\n         Influenza       0.86      1.00      0.92         6\n              None       1.00      0.99      0.99        87\nSeasonal Allergies       1.00      1.00      1.00         5\n\n          accuracy                           0.98       105\n         macro avg       0.93      0.96      0.94       105\n      weighted avg       0.98      0.98      0.98       105\n\n"
    }
   ],
   "source": [
    "#Prediction on TestSet\n",
    "y_pred=classifier.predict(X_test)\n",
    "\n",
    "#Model Performance\n",
    "from sklearn import metrics\n",
    "print(\"Logistic Regression model accuracy(in %):\", metrics.accuracy_score(y_test, y_pred)*100)\n",
    "from sklearn.metrics import classification_report, confusion_matrix\n",
    "print(confusion_matrix(y_test, y_pred))\n",
    "print(classification_report(y_test, y_pred))"
   ]
  },
  {
   "cell_type": "code",
   "execution_count": 33,
   "metadata": {},
   "outputs": [],
   "source": [
    "import pickle\n",
    "# save the model to disk\n",
    "filename = 'finalized_model.sav'\n",
    "pickle.dump(classifier, open(filename, 'wb'))"
   ]
  }
 ],
 "metadata": {
  "file_extension": ".py",
  "kernelspec": {
   "display_name": "Python 3",
   "language": "python",
   "name": "python3"
  },
  "language_info": {
   "codemirror_mode": {
    "name": "ipython",
    "version": 3
   },
   "file_extension": ".py",
   "mimetype": "text/x-python",
   "name": "python",
   "nbconvert_exporter": "python",
   "pygments_lexer": "ipython3",
   "version": "3.7.4-final"
  },
  "mimetype": "text/x-python",
  "name": "python",
  "npconvert_exporter": "python",
  "pygments_lexer": "ipython3",
  "version": 3
 },
 "nbformat": 4,
 "nbformat_minor": 2
}